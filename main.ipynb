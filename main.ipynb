{
 "cells": [
  {
   "cell_type": "code",
   "execution_count": 3,
   "id": "bbe80e16",
   "metadata": {},
   "outputs": [],
   "source": [
    "# Necessary Libraries\n",
    "import numpy as np\n",
    "import pandas as pd\n",
    "import seaborn as sns\n",
    "import matplotlib.pyplot as plt\n",
    "import tensorflow as tf\n",
    "import os\n",
    "\n",
    "from PIL import Image\n",
    "import keras\n",
    "from sklearn.preprocessing import LabelEncoder\n",
    "import sklearn\n",
    "from sklearn import svm\n",
    "from tqdm.notebook import tqdm\n",
    "from keras.preprocessing.image import load_img\n",
    "from keras.utils import to_categorical\n",
    "import cv2\n"
   ]
  },
  {
   "cell_type": "markdown",
   "id": "738bcd48",
   "metadata": {},
   "source": [
    "## Loading data from data folder and storing image path and labels detail to a separate list"
   ]
  },
  {
   "cell_type": "code",
   "execution_count": 4,
   "id": "5c2424f2",
   "metadata": {},
   "outputs": [],
   "source": [
    "test_dir = 'C:\\\\Users\\\\JoyBoy\\\\Desktop\\\\Code\\\\Projects\\\\data\\\\data_1\\\\test'\n",
    "train_dir = 'C:\\\\Users\\\\JoyBoy\\\\Desktop\\\\Code\\\\Projects\\\\data\\\\data_1\\\\train'"
   ]
  },
  {
   "cell_type": "code",
   "execution_count": 5,
   "id": "9e6e41bf",
   "metadata": {},
   "outputs": [],
   "source": [
    "import os\n",
    "def load_data(directory):\n",
    "    image_paths = []\n",
    "    labels = []\n",
    "\n",
    "    for label in os.listdir(directory):\n",
    "        label_dir = os.path.join(directory, label)\n",
    "        \n",
    "        if os.path.isdir(label_dir):\n",
    "            for filename in os.listdir(label_dir):\n",
    "                image_path = os.path.join(label_dir, filename)\n",
    "                image_paths.append(image_path)\n",
    "                labels.append(label)\n",
    "                \n",
    "            print(label, \"Done!\")\n",
    "\n",
    "    return image_paths, labels\n"
   ]
  },
  {
   "cell_type": "markdown",
   "id": "bd4d2bf7",
   "metadata": {},
   "source": [
    "## Creating DataFrame"
   ]
  },
  {
   "cell_type": "code",
   "execution_count": 6,
   "id": "60d821df",
   "metadata": {
    "scrolled": true
   },
   "outputs": [
    {
     "name": "stdout",
     "output_type": "stream",
     "text": [
      "angry Done!\n",
      "disgusted Done!\n",
      "fearful Done!\n",
      "happy Done!\n",
      "neutral Done!\n",
      "sad Done!\n",
      "surprised Done!\n"
     ]
    },
    {
     "data": {
      "text/html": [
       "<div>\n",
       "<style scoped>\n",
       "    .dataframe tbody tr th:only-of-type {\n",
       "        vertical-align: middle;\n",
       "    }\n",
       "\n",
       "    .dataframe tbody tr th {\n",
       "        vertical-align: top;\n",
       "    }\n",
       "\n",
       "    .dataframe thead th {\n",
       "        text-align: right;\n",
       "    }\n",
       "</style>\n",
       "<table border=\"1\" class=\"dataframe\">\n",
       "  <thead>\n",
       "    <tr style=\"text-align: right;\">\n",
       "      <th></th>\n",
       "      <th>image</th>\n",
       "      <th>label</th>\n",
       "    </tr>\n",
       "  </thead>\n",
       "  <tbody>\n",
       "    <tr>\n",
       "      <th>0</th>\n",
       "      <td>C:\\Users\\JoyBoy\\Desktop\\Code\\Projects\\data\\dat...</td>\n",
       "      <td>angry</td>\n",
       "    </tr>\n",
       "    <tr>\n",
       "      <th>1</th>\n",
       "      <td>C:\\Users\\JoyBoy\\Desktop\\Code\\Projects\\data\\dat...</td>\n",
       "      <td>happy</td>\n",
       "    </tr>\n",
       "    <tr>\n",
       "      <th>2</th>\n",
       "      <td>C:\\Users\\JoyBoy\\Desktop\\Code\\Projects\\data\\dat...</td>\n",
       "      <td>neutral</td>\n",
       "    </tr>\n",
       "    <tr>\n",
       "      <th>3</th>\n",
       "      <td>C:\\Users\\JoyBoy\\Desktop\\Code\\Projects\\data\\dat...</td>\n",
       "      <td>fearful</td>\n",
       "    </tr>\n",
       "    <tr>\n",
       "      <th>4</th>\n",
       "      <td>C:\\Users\\JoyBoy\\Desktop\\Code\\Projects\\data\\dat...</td>\n",
       "      <td>happy</td>\n",
       "    </tr>\n",
       "  </tbody>\n",
       "</table>\n",
       "</div>"
      ],
      "text/plain": [
       "                                               image    label\n",
       "0  C:\\Users\\JoyBoy\\Desktop\\Code\\Projects\\data\\dat...    angry\n",
       "1  C:\\Users\\JoyBoy\\Desktop\\Code\\Projects\\data\\dat...    happy\n",
       "2  C:\\Users\\JoyBoy\\Desktop\\Code\\Projects\\data\\dat...  neutral\n",
       "3  C:\\Users\\JoyBoy\\Desktop\\Code\\Projects\\data\\dat...  fearful\n",
       "4  C:\\Users\\JoyBoy\\Desktop\\Code\\Projects\\data\\dat...    happy"
      ]
     },
     "execution_count": 6,
     "metadata": {},
     "output_type": "execute_result"
    }
   ],
   "source": [
    "train = pd.DataFrame()\n",
    "train['image'] , train['label'] = load_data(train_dir)\n",
    "\n",
    "## Shuffling the dataset\n",
    "train = train.sample(frac =1).reset_index(drop=True) # To shuffle the data for randomly distributing data into dataset\n",
    "train.head()"
   ]
  },
  {
   "cell_type": "code",
   "execution_count": 7,
   "id": "77654b8f",
   "metadata": {
    "scrolled": false
   },
   "outputs": [
    {
     "name": "stdout",
     "output_type": "stream",
     "text": [
      "angry Done!\n",
      "disgusted Done!\n",
      "fearful Done!\n",
      "happy Done!\n",
      "neutral Done!\n",
      "sad Done!\n",
      "surprised Done!\n"
     ]
    },
    {
     "data": {
      "text/html": [
       "<div>\n",
       "<style scoped>\n",
       "    .dataframe tbody tr th:only-of-type {\n",
       "        vertical-align: middle;\n",
       "    }\n",
       "\n",
       "    .dataframe tbody tr th {\n",
       "        vertical-align: top;\n",
       "    }\n",
       "\n",
       "    .dataframe thead th {\n",
       "        text-align: right;\n",
       "    }\n",
       "</style>\n",
       "<table border=\"1\" class=\"dataframe\">\n",
       "  <thead>\n",
       "    <tr style=\"text-align: right;\">\n",
       "      <th></th>\n",
       "      <th>image</th>\n",
       "      <th>label</th>\n",
       "    </tr>\n",
       "  </thead>\n",
       "  <tbody>\n",
       "    <tr>\n",
       "      <th>0</th>\n",
       "      <td>C:\\Users\\JoyBoy\\Desktop\\Code\\Projects\\data\\dat...</td>\n",
       "      <td>angry</td>\n",
       "    </tr>\n",
       "    <tr>\n",
       "      <th>1</th>\n",
       "      <td>C:\\Users\\JoyBoy\\Desktop\\Code\\Projects\\data\\dat...</td>\n",
       "      <td>angry</td>\n",
       "    </tr>\n",
       "    <tr>\n",
       "      <th>2</th>\n",
       "      <td>C:\\Users\\JoyBoy\\Desktop\\Code\\Projects\\data\\dat...</td>\n",
       "      <td>angry</td>\n",
       "    </tr>\n",
       "    <tr>\n",
       "      <th>3</th>\n",
       "      <td>C:\\Users\\JoyBoy\\Desktop\\Code\\Projects\\data\\dat...</td>\n",
       "      <td>angry</td>\n",
       "    </tr>\n",
       "    <tr>\n",
       "      <th>4</th>\n",
       "      <td>C:\\Users\\JoyBoy\\Desktop\\Code\\Projects\\data\\dat...</td>\n",
       "      <td>angry</td>\n",
       "    </tr>\n",
       "  </tbody>\n",
       "</table>\n",
       "</div>"
      ],
      "text/plain": [
       "                                               image  label\n",
       "0  C:\\Users\\JoyBoy\\Desktop\\Code\\Projects\\data\\dat...  angry\n",
       "1  C:\\Users\\JoyBoy\\Desktop\\Code\\Projects\\data\\dat...  angry\n",
       "2  C:\\Users\\JoyBoy\\Desktop\\Code\\Projects\\data\\dat...  angry\n",
       "3  C:\\Users\\JoyBoy\\Desktop\\Code\\Projects\\data\\dat...  angry\n",
       "4  C:\\Users\\JoyBoy\\Desktop\\Code\\Projects\\data\\dat...  angry"
      ]
     },
     "execution_count": 7,
     "metadata": {},
     "output_type": "execute_result"
    }
   ],
   "source": [
    "test = pd.DataFrame()\n",
    "test['image'] , test['label'] = load_data(test_dir)\n",
    "test.head()"
   ]
  },
  {
   "cell_type": "markdown",
   "id": "50c14ac6",
   "metadata": {},
   "source": [
    "## Exploratory Data Analysis (EDA)"
   ]
  },
  {
   "cell_type": "code",
   "execution_count": 10,
   "id": "f5d53cdb",
   "metadata": {},
   "outputs": [],
   "source": [
    "def EDA(name):\n",
    "    sns.countplot(data = name , x='label') #Plotting label column of train\n",
    "\n",
    "    plt.xlabel('Categories - Emotions')\n",
    "    plt.ylabel('Count')\n",
    "    plt.title('Count Plot of Emotions Categories')\n",
    "\n",
    "    plt.show()  "
   ]
  },
  {
   "cell_type": "code",
   "execution_count": 9,
   "id": "302fbab1",
   "metadata": {},
   "outputs": [
    {
     "data": {
      "image/png": "[encoded data removed]",
      "text/plain": [
       "<Figure size 640x480 with 1 Axes>"
      ]
     },
     "metadata": {},
     "output_type": "display_data"
    },
    {
     "data": {
      "image/png": "[encoded data removed]",
      "text/plain": [
       "<Figure size 640x480 with 1 Axes>"
      ]
     },
     "metadata": {},
     "output_type": "display_data"
    }
   ],
   "source": [
    "EDA(test)\n",
    "EDA(train)"
   ]
  },
  {
   "cell_type": "markdown",
   "id": "06979648",
   "metadata": {},
   "source": [
    "## IMAGE WORK"
   ]
  },
  {
   "cell_type": "code",
   "execution_count": 15,
   "id": "232b3dc6",
   "metadata": {},
   "outputs": [],
   "source": [
    "# # Open an image file\n",
    "# img = Image.open(train['image'][1])\n",
    "# plt.imshow(img , cmap='gray');"
   ]
  },
  {
   "cell_type": "markdown",
   "id": "66dbfc41",
   "metadata": {},
   "source": [
    "## make an np array"
   ]
  },
  {
   "cell_type": "code",
   "execution_count": 16,
   "id": "c6d5727f",
   "metadata": {},
   "outputs": [],
   "source": [
    "# ## grid of image\n",
    "# from PIL import Image\n",
    "\n",
    "# plt.figure(figsize =(25,25))\n",
    "# files = train.iloc[:10]\n",
    "\n",
    "# for index , file , label in files.itertuples():\n",
    "#     plt.subplot(5,5,index+1)\n",
    "#     img = load_img(file)\n",
    "#     img = np.array(img)\n",
    "#     plt.imshow(img)\n",
    "#     plt.axis('off')\n",
    "#     plt.title(label)"
   ]
  },
  {
   "cell_type": "code",
   "execution_count": 20,
   "id": "85b6080e",
   "metadata": {},
   "outputs": [],
   "source": [
    " def extract_feature(images):\n",
    "        feature = []\n",
    "        for image in tqdm(images):\n",
    "            img = load_img(image , color_mode = \"grayscale\")\n",
    "            img = np.array(img)\n",
    "            feature.append(img)\n",
    "        feature = np.array(feature)\n",
    "        feature = feature.reshape(len(feature),48,48,1)\n",
    "        return feature\n",
    "\n",
    "   "
   ]
  },
  {
   "cell_type": "code",
   "execution_count": 21,
   "id": "3fd2d9c9",
   "metadata": {
    "scrolled": false
   },
   "outputs": [
    {
     "data": {
      "application/vnd.jupyter.widget-view+json": {
       "model_id": "09c65ed909cb48ebabc94247eda324e8",
       "version_major": 2,
       "version_minor": 0
      },
      "text/plain": [
       "  0%|          | 0/28709 [00:00<?, ?it/s]"
      ]
     },
     "metadata": {},
     "output_type": "display_data"
    }
   ],
   "source": [
    "train_feature = extract_feature(train['image'])"
   ]
  },
  {
   "cell_type": "code",
   "execution_count": 22,
   "id": "c4dca68d",
   "metadata": {},
   "outputs": [
    {
     "data": {
      "application/vnd.jupyter.widget-view+json": {
       "model_id": "c25af35acae6435890315cf4cef3ffad",
       "version_major": 2,
       "version_minor": 0
      },
      "text/plain": [
       "  0%|          | 0/7178 [00:00<?, ?it/s]"
      ]
     },
     "metadata": {},
     "output_type": "display_data"
    }
   ],
   "source": [
    "test_feature = extract_feature(test['image'])"
   ]
  },
  {
   "cell_type": "code",
   "execution_count": 23,
   "id": "38bc708b",
   "metadata": {},
   "outputs": [],
   "source": [
    "x_train = train_feature/255.0\n",
    "x_test = test_feature/255.0"
   ]
  },
  {
   "cell_type": "code",
   "execution_count": 24,
   "id": "1ee93282",
   "metadata": {},
   "outputs": [],
   "source": [
    "# def encoder(label):\n",
    "#     # Sample labels\n",
    "#     labels = ['angry', 'sad', 'fearful', 'happy', 'disgusted','surprise','neutral']\n",
    "\n",
    "#     # Initialize the label encoder\n",
    "#     label_encoder = LabelEncoder()\n",
    "\n",
    "#     # Fit and transform the labels to integer values\n",
    "#     integer_labels = label_encoder.fit_transform(labels)\n",
    "\n",
    "#     # Print the mapping between labels and integers\n",
    "#     print(\"Label to Integer Mapping:\")\n",
    "#     for label, integer_label in zip(labels, integer_labels):\n",
    "#         print(f\"{label} -> {integer_label}\")\n"
   ]
  },
  {
   "cell_type": "code",
   "execution_count": 25,
   "id": "33e55fee",
   "metadata": {},
   "outputs": [],
   "source": [
    "# encoder(train['label'])"
   ]
  },
  {
   "cell_type": "code",
   "execution_count": 26,
   "id": "fb217fa8",
   "metadata": {},
   "outputs": [],
   "source": [
    "# lab = LabelEncoder()\n",
    "# lab.fit(train['label'])"
   ]
  },
  {
   "cell_type": "code",
   "execution_count": 27,
   "id": "9d1e1ddf",
   "metadata": {},
   "outputs": [],
   "source": [
    "# y_train = lab.transform(train['label'])\n",
    "# y_test = lab.transform(test['label'])"
   ]
  },
  {
   "cell_type": "code",
   "execution_count": 28,
   "id": "6cebf10b",
   "metadata": {},
   "outputs": [],
   "source": [
    "# print(y_train)\n",
    "# print(y_test)\n",
    "\n",
    "# # Reshape x_train if needed (e.g., flattening for images)\n",
    "# x_train = x_train.reshape(x_train.shape[0], -1)\n",
    "\n",
    "# # Ensure y_train is a 1D array\n",
    "# y_train = y_train.ravel()"
   ]
  },
  {
   "cell_type": "code",
   "execution_count": 29,
   "id": "1ca8ee12",
   "metadata": {},
   "outputs": [
    {
     "data": {
      "text/html": [
       "<style>#sk-container-id-1 {color: black;}#sk-container-id-1 pre{padding: 0;}#sk-container-id-1 div.sk-toggleable {background-color: white;}#sk-container-id-1 label.sk-toggleable__label {cursor: pointer;display: block;width: 100%;margin-bottom: 0;padding: 0.3em;box-sizing: border-box;text-align: center;}#sk-container-id-1 label.sk-toggleable__label-arrow:before {content: \"▸\";float: left;margin-right: 0.25em;color: #696969;}#sk-container-id-1 label.sk-toggleable__label-arrow:hover:before {color: black;}#sk-container-id-1 div.sk-estimator:hover label.sk-toggleable__label-arrow:before {color: black;}#sk-container-id-1 div.sk-toggleable__content {max-height: 0;max-width: 0;overflow: hidden;text-align: left;background-color: #f0f8ff;}#sk-container-id-1 div.sk-toggleable__content pre {margin: 0.2em;color: black;border-radius: 0.25em;background-color: #f0f8ff;}#sk-container-id-1 input.sk-toggleable__control:checked~div.sk-toggleable__content {max-height: 200px;max-width: 100%;overflow: auto;}#sk-container-id-1 input.sk-toggleable__control:checked~label.sk-toggleable__label-arrow:before {content: \"▾\";}#sk-container-id-1 div.sk-estimator input.sk-toggleable__control:checked~label.sk-toggleable__label {background-color: #d4ebff;}#sk-container-id-1 div.sk-label input.sk-toggleable__control:checked~label.sk-toggleable__label {background-color: #d4ebff;}#sk-container-id-1 input.sk-hidden--visually {border: 0;clip: rect(1px 1px 1px 1px);clip: rect(1px, 1px, 1px, 1px);height: 1px;margin: -1px;overflow: hidden;padding: 0;position: absolute;width: 1px;}#sk-container-id-1 div.sk-estimator {font-family: monospace;background-color: #f0f8ff;border: 1px dotted black;border-radius: 0.25em;box-sizing: border-box;margin-bottom: 0.5em;}#sk-container-id-1 div.sk-estimator:hover {background-color: #d4ebff;}#sk-container-id-1 div.sk-parallel-item::after {content: \"\";width: 100%;border-bottom: 1px solid gray;flex-grow: 1;}#sk-container-id-1 div.sk-label:hover label.sk-toggleable__label {background-color: #d4ebff;}#sk-container-id-1 div.sk-serial::before {content: \"\";position: absolute;border-left: 1px solid gray;box-sizing: border-box;top: 0;bottom: 0;left: 50%;z-index: 0;}#sk-container-id-1 div.sk-serial {display: flex;flex-direction: column;align-items: center;background-color: white;padding-right: 0.2em;padding-left: 0.2em;position: relative;}#sk-container-id-1 div.sk-item {position: relative;z-index: 1;}#sk-container-id-1 div.sk-parallel {display: flex;align-items: stretch;justify-content: center;background-color: white;position: relative;}#sk-container-id-1 div.sk-item::before, #sk-container-id-1 div.sk-parallel-item::before {content: \"\";position: absolute;border-left: 1px solid gray;box-sizing: border-box;top: 0;bottom: 0;left: 50%;z-index: -1;}#sk-container-id-1 div.sk-parallel-item {display: flex;flex-direction: column;z-index: 1;position: relative;background-color: white;}#sk-container-id-1 div.sk-parallel-item:first-child::after {align-self: flex-end;width: 50%;}#sk-container-id-1 div.sk-parallel-item:last-child::after {align-self: flex-start;width: 50%;}#sk-container-id-1 div.sk-parallel-item:only-child::after {width: 0;}#sk-container-id-1 div.sk-dashed-wrapped {border: 1px dashed gray;margin: 0 0.4em 0.5em 0.4em;box-sizing: border-box;padding-bottom: 0.4em;background-color: white;}#sk-container-id-1 div.sk-label label {font-family: monospace;font-weight: bold;display: inline-block;line-height: 1.2em;}#sk-container-id-1 div.sk-label-container {text-align: center;}#sk-container-id-1 div.sk-container {/* jupyter's `normalize.less` sets `[hidden] { display: none; }` but bootstrap.min.css set `[hidden] { display: none !important; }` so we also need the `!important` here to be able to override the default hidden behavior on the sphinx rendered scikit-learn.org. See: https://github.com/scikit-learn/scikit-learn/issues/21755 */display: inline-block !important;position: relative;}#sk-container-id-1 div.sk-text-repr-fallback {display: none;}</style><div id=\"sk-container-id-1\" class=\"sk-top-container\"><div class=\"sk-text-repr-fallback\"><pre>LabelEncoder()</pre><b>In a Jupyter environment, please rerun this cell to show the HTML representation or trust the notebook. <br />On GitHub, the HTML representation is unable to render, please try loading this page with nbviewer.org.</b></div><div class=\"sk-container\" hidden><div class=\"sk-item\"><div class=\"sk-estimator sk-toggleable\"><input class=\"sk-toggleable__control sk-hidden--visually\" id=\"sk-estimator-id-1\" type=\"checkbox\" checked><label for=\"sk-estimator-id-1\" class=\"sk-toggleable__label sk-toggleable__label-arrow\">LabelEncoder</label><div class=\"sk-toggleable__content\"><pre>LabelEncoder()</pre></div></div></div></div></div>"
      ],
      "text/plain": [
       "LabelEncoder()"
      ]
     },
     "execution_count": 29,
     "metadata": {},
     "output_type": "execute_result"
    }
   ],
   "source": [
    "lab = LabelEncoder()\n",
    "lab.fit(train['label'])"
   ]
  },
  {
   "cell_type": "code",
   "execution_count": 30,
   "id": "c87b96f9",
   "metadata": {},
   "outputs": [],
   "source": [
    "y_train = lab.transform(train['label'])\n",
    "y_test = lab.transform(test['label'])"
   ]
  },
  {
   "cell_type": "code",
   "execution_count": 31,
   "id": "7e9636c8",
   "metadata": {},
   "outputs": [],
   "source": [
    "y_train = to_categorical(y_train , num_classes=7)\n",
    "y_test = to_categorical(y_test , num_classes=7)"
   ]
  },
  {
   "cell_type": "code",
   "execution_count": null,
   "id": "1ccce804",
   "metadata": {},
   "outputs": [],
   "source": []
  },
  {
   "cell_type": "markdown",
   "id": "8586f753",
   "metadata": {},
   "source": [
    "## MODEL"
   ]
  },
  {
   "cell_type": "code",
   "execution_count": null,
   "id": "7754ce81",
   "metadata": {},
   "outputs": [],
   "source": []
  }
 ],
 "metadata": {
  "kernelspec": {
   "display_name": "Python 3 (ipykernel)",
   "language": "python",
   "name": "python3"
  },
  "language_info": {
   "codemirror_mode": {
    "name": "ipython",
    "version": 3
   },
   "file_extension": ".py",
   "mimetype": "text/x-python",
   "name": "python",
   "nbconvert_exporter": "python",
   "pygments_lexer": "ipython3",
   "version": "3.11.5"
  }
 },
 "nbformat": 4,
 "nbformat_minor": 5
}
